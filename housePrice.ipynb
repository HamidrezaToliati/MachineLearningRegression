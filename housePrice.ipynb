{
 "cells": [
  {
   "cell_type": "markdown",
   "id": "34d04579",
   "metadata": {},
   "source": [
    "## importing required libraries"
   ]
  },
  {
   "cell_type": "code",
   "execution_count": 1,
   "id": "abc4871f",
   "metadata": {},
   "outputs": [],
   "source": [
    "import pandas as pd\n",
    "import numpy as np\n",
    "import matplotlib.pyplot as plt\n",
    "import pylab as pl\n",
    "import seaborn as sns"
   ]
  },
  {
   "cell_type": "markdown",
   "id": "c1564cea",
   "metadata": {},
   "source": [
    "## importing the data set and converting it to a dataframe"
   ]
  },
  {
   "cell_type": "code",
   "execution_count": 2,
   "id": "278f9a91",
   "metadata": {},
   "outputs": [],
   "source": [
    "df = pd.read_csv(\"housePrice.csv\")\n",
    "df.columns = map(str.lower, df.columns)"
   ]
  },
  {
   "cell_type": "markdown",
   "id": "be7e029d",
   "metadata": {},
   "source": [
    "# preprocessing\n"
   ]
  },
  {
   "cell_type": "markdown",
   "id": "522f8023",
   "metadata": {},
   "source": [
    "#### 1.converting \"area\" column values to integers"
   ]
  },
  {
   "cell_type": "code",
   "execution_count": 3,
   "id": "793620bf",
   "metadata": {},
   "outputs": [],
   "source": [
    "df['area'] = [''.join(x.split(',')) for x in df['area']]\n",
    "df['area'] = pd.to_numeric(df['area'])"
   ]
  },
  {
   "cell_type": "code",
   "execution_count": 4,
   "id": "958e0724",
   "metadata": {},
   "outputs": [
    {
     "name": "stdout",
     "output_type": "stream",
     "text": [
      "<class 'pandas.core.frame.DataFrame'>\n",
      "RangeIndex: 3479 entries, 0 to 3478\n",
      "Data columns (total 8 columns):\n",
      " #   Column      Non-Null Count  Dtype  \n",
      "---  ------      --------------  -----  \n",
      " 0   area        3479 non-null   int64  \n",
      " 1   room        3479 non-null   int64  \n",
      " 2   parking     3479 non-null   bool   \n",
      " 3   warehouse   3479 non-null   bool   \n",
      " 4   elevator    3479 non-null   bool   \n",
      " 5   address     3456 non-null   object \n",
      " 6   price       3479 non-null   float64\n",
      " 7   price(usd)  3479 non-null   float64\n",
      "dtypes: bool(3), float64(2), int64(2), object(1)\n",
      "memory usage: 146.2+ KB\n",
      "None\n",
      "               area         room         price    price(usd)\n",
      "count  3.479000e+03  3479.000000  3.479000e+03  3.479000e+03\n",
      "mean   8.744000e+06     2.079908  5.359023e+09  1.786341e+05\n",
      "std    3.167266e+08     0.758275  8.099935e+09  2.699978e+05\n",
      "min    3.000000e+01     0.000000  3.600000e+06  1.200000e+02\n",
      "25%    6.900000e+01     2.000000  1.418250e+09  4.727500e+04\n",
      "50%    9.000000e+01     2.000000  2.900000e+09  9.666667e+04\n",
      "75%    1.200000e+02     2.000000  6.000000e+09  2.000000e+05\n",
      "max    1.616000e+10     5.000000  9.240000e+10  3.080000e+06\n"
     ]
    },
    {
     "data": {
      "text/html": [
       "<div>\n",
       "<style scoped>\n",
       "    .dataframe tbody tr th:only-of-type {\n",
       "        vertical-align: middle;\n",
       "    }\n",
       "\n",
       "    .dataframe tbody tr th {\n",
       "        vertical-align: top;\n",
       "    }\n",
       "\n",
       "    .dataframe thead th {\n",
       "        text-align: right;\n",
       "    }\n",
       "</style>\n",
       "<table border=\"1\" class=\"dataframe\">\n",
       "  <thead>\n",
       "    <tr style=\"text-align: right;\">\n",
       "      <th></th>\n",
       "      <th>area</th>\n",
       "      <th>room</th>\n",
       "      <th>parking</th>\n",
       "      <th>warehouse</th>\n",
       "      <th>elevator</th>\n",
       "      <th>address</th>\n",
       "      <th>price</th>\n",
       "      <th>price(usd)</th>\n",
       "    </tr>\n",
       "  </thead>\n",
       "  <tbody>\n",
       "    <tr>\n",
       "      <th>0</th>\n",
       "      <td>63</td>\n",
       "      <td>1</td>\n",
       "      <td>True</td>\n",
       "      <td>True</td>\n",
       "      <td>True</td>\n",
       "      <td>Shahran</td>\n",
       "      <td>1.850000e+09</td>\n",
       "      <td>61666.67</td>\n",
       "    </tr>\n",
       "    <tr>\n",
       "      <th>1</th>\n",
       "      <td>60</td>\n",
       "      <td>1</td>\n",
       "      <td>True</td>\n",
       "      <td>True</td>\n",
       "      <td>True</td>\n",
       "      <td>Shahran</td>\n",
       "      <td>1.850000e+09</td>\n",
       "      <td>61666.67</td>\n",
       "    </tr>\n",
       "    <tr>\n",
       "      <th>2</th>\n",
       "      <td>79</td>\n",
       "      <td>2</td>\n",
       "      <td>True</td>\n",
       "      <td>True</td>\n",
       "      <td>True</td>\n",
       "      <td>Pardis</td>\n",
       "      <td>5.500000e+08</td>\n",
       "      <td>18333.33</td>\n",
       "    </tr>\n",
       "    <tr>\n",
       "      <th>3</th>\n",
       "      <td>95</td>\n",
       "      <td>2</td>\n",
       "      <td>True</td>\n",
       "      <td>True</td>\n",
       "      <td>True</td>\n",
       "      <td>Shahrake Qods</td>\n",
       "      <td>9.025000e+08</td>\n",
       "      <td>30083.33</td>\n",
       "    </tr>\n",
       "    <tr>\n",
       "      <th>4</th>\n",
       "      <td>123</td>\n",
       "      <td>2</td>\n",
       "      <td>True</td>\n",
       "      <td>True</td>\n",
       "      <td>True</td>\n",
       "      <td>Shahrake Gharb</td>\n",
       "      <td>7.000000e+09</td>\n",
       "      <td>233333.33</td>\n",
       "    </tr>\n",
       "  </tbody>\n",
       "</table>\n",
       "</div>"
      ],
      "text/plain": [
       "   area  room  parking  warehouse  elevator         address         price  \\\n",
       "0    63     1     True       True      True         Shahran  1.850000e+09   \n",
       "1    60     1     True       True      True         Shahran  1.850000e+09   \n",
       "2    79     2     True       True      True          Pardis  5.500000e+08   \n",
       "3    95     2     True       True      True   Shahrake Qods  9.025000e+08   \n",
       "4   123     2     True       True      True  Shahrake Gharb  7.000000e+09   \n",
       "\n",
       "   price(usd)  \n",
       "0    61666.67  \n",
       "1    61666.67  \n",
       "2    18333.33  \n",
       "3    30083.33  \n",
       "4   233333.33  "
      ]
     },
     "execution_count": 4,
     "metadata": {},
     "output_type": "execute_result"
    }
   ],
   "source": [
    "print(df.info())\n",
    "print(df.describe())\n",
    "df.head()"
   ]
  },
  {
   "cell_type": "code",
   "execution_count": 5,
   "id": "607ebfc4",
   "metadata": {},
   "outputs": [
    {
     "data": {
      "image/png": "[encoded data removed]",
      "text/plain": [
       "<Figure size 432x288 with 1 Axes>"
      ]
     },
     "metadata": {
      "needs_background": "light"
     },
     "output_type": "display_data"
    }
   ],
   "source": [
    "plt.scatter(df['area'], df['price'])\n",
    "plt.show()"
   ]
  },
  {
   "cell_type": "markdown",
   "id": "e11cefa8",
   "metadata": {},
   "source": [
    "2. #### omitting df rows that contain obviouse outliers in the 'area' column"
   ]
  },
  {
   "cell_type": "code",
   "execution_count": 6,
   "id": "981233e5",
   "metadata": {},
   "outputs": [
    {
     "data": {
      "image/png": "[encoded data removed]",
      "text/plain": [
       "<Figure size 432x288 with 1 Axes>"
      ]
     },
     "metadata": {
      "needs_background": "light"
     },
     "output_type": "display_data"
    }
   ],
   "source": [
    "df['area'] = df['area'].where(df['area']<1500, np.nan)\n",
    "df = df.dropna(subset=['area'])\n",
    "plt.scatter(df['area'], df['price'])\n",
    "plt.xlabel('area')\n",
    "plt.ylabel('price')\n",
    "plt.show()"
   ]
  },
  {
   "cell_type": "markdown",
   "id": "da80919a",
   "metadata": {},
   "source": [
    "#### 3.omitting df rows that does not contain any address"
   ]
  },
  {
   "cell_type": "code",
   "execution_count": 7,
   "id": "27ccc819",
   "metadata": {},
   "outputs": [],
   "source": [
    "from sklearn.preprocessing import LabelEncoder\n",
    "df = df.dropna(subset=['address'])\n",
    "le = LabelEncoder()\n",
    "le.fit(df['address'])\n",
    "df['address_number'] = le.transform(df['address'])"
   ]
  },
  {
   "cell_type": "markdown",
   "id": "e599c708",
   "metadata": {},
   "source": [
    "#### 4. plotting different features vs. price"
   ]
  },
  {
   "cell_type": "code",
   "execution_count": 8,
   "id": "6671f7c9",
   "metadata": {},
   "outputs": [
    {
     "data": {
      "image/png": "[encoded data removed]",
      "text/plain": [
       "<Figure size 432x288 with 4 Axes>"
      ]
     },
     "metadata": {
      "needs_background": "light"
     },
     "output_type": "display_data"
    }
   ],
   "source": [
    "room_price_mean = df.groupby('room').price.mean()\n",
    "plt.subplot(221)\n",
    "plt.bar([str(x) for x in list(room_price_mean.index)], room_price_mean.values)\n",
    "plt.xlabel('number of rooms')\n",
    "plt.ylabel('price(T)')\n",
    "plt.subplot(222)\n",
    "parking_price_mean = df.groupby('parking').price.mean()\n",
    "plt.bar(parking_price_mean.index.astype(str), parking_price_mean.values)\n",
    "plt.xlabel('parking?')\n",
    "plt.ylabel('price(T)')\n",
    "plt.subplot(223)\n",
    "warehouse_price_mean = df.groupby('warehouse').price.mean()\n",
    "plt.bar(warehouse_price_mean.index.astype(str), warehouse_price_mean.values)\n",
    "plt.xlabel('warehouse?')\n",
    "plt.ylabel('price(T)')\n",
    "plt.subplot(224)\n",
    "elevator_price_mean = df.groupby('elevator').price.mean()\n",
    "plt.bar(elevator_price_mean.index.astype(str), elevator_price_mean.values)\n",
    "plt.xlabel('elevator?')\n",
    "plt.ylabel('price(T)')\n",
    "plt.show()"
   ]
  },
  {
   "cell_type": "markdown",
   "id": "d4e7d016",
   "metadata": {},
   "source": [
    "#### 5. replaceing True/False with 1/0 in different columns"
   ]
  },
  {
   "cell_type": "code",
   "execution_count": 9,
   "id": "08b9613c",
   "metadata": {},
   "outputs": [],
   "source": [
    "df['parking'].replace({True: 1, False: 0}, inplace=True)\n",
    "df['warehouse'].replace({True: 1, False: 0}, inplace=True)\n",
    "df['elevator'].replace({True: 1, False: 0}, inplace=True)"
   ]
  },
  {
   "cell_type": "markdown",
   "id": "2d48e65a",
   "metadata": {},
   "source": [
    "#### 6. defining a newdata frame for further processes"
   ]
  },
  {
   "cell_type": "code",
   "execution_count": 10,
   "id": "0eb22368",
   "metadata": {},
   "outputs": [],
   "source": [
    "cdf = df[['area', 'room', 'parking', 'warehouse', 'elevator', 'address_number', 'price(usd)']]"
   ]
  },
  {
   "cell_type": "markdown",
   "id": "f11fd3e6",
   "metadata": {},
   "source": [
    "#### 7. masking and creating training and test data"
   ]
  },
  {
   "cell_type": "code",
   "execution_count": 11,
   "id": "dc0de507",
   "metadata": {
    "scrolled": false
   },
   "outputs": [
    {
     "data": {
      "image/png": "[encoded data removed]",
      "text/plain": [
       "<Figure size 432x288 with 1 Axes>"
      ]
     },
     "metadata": {
      "needs_background": "light"
     },
     "output_type": "display_data"
    }
   ],
   "source": [
    "msk = np.random.rand( len(cdf) ) < 0.8\n",
    "\n",
    "train_set = cdf[msk]\n",
    "test_set = cdf[~msk]\n",
    "\n",
    "plt.scatter(train_set['area'], train_set['price(usd)'])\n",
    "plt.scatter(test_set['area'], test_set['price(usd)'], color='red')\n",
    "plt.show()"
   ]
  },
  {
   "cell_type": "markdown",
   "id": "02d19972",
   "metadata": {},
   "source": [
    "#### 8. machine learning processing using second degree polynomial"
   ]
  },
  {
   "cell_type": "code",
   "execution_count": 12,
   "id": "98058d49",
   "metadata": {},
   "outputs": [
    {
     "name": "stdout",
     "output_type": "stream",
     "text": [
      "R2 is:  0.7037983972624771\n"
     ]
    }
   ],
   "source": [
    "from sklearn.preprocessing import PolynomialFeatures\n",
    "from sklearn.linear_model import LinearRegression\n",
    "\n",
    "train_x = np.asanyarray(train_set[['area', 'room', 'parking', 'warehouse', 'elevator', 'address_number']])\n",
    "train_y = np.asanyarray(train_set[['price(usd)']])\n",
    "test_x = np.asanyarray(test_set[['area', 'room', 'parking', 'warehouse', 'elevator', 'address_number']])\n",
    "test_y = np.asanyarray(test_set[['price(usd)']])\n",
    "\n",
    "poly = PolynomialFeatures(degree=2)\n",
    "train_x_poly = poly.fit_transform(train_x)\n",
    "test_x_poly = poly.fit_transform(test_x)\n",
    "\n",
    "regr = LinearRegression()\n",
    "regr.fit(train_x_poly, train_y)\n",
    "\n",
    "from sklearn.metrics import r2_score\n",
    "eval_y = regr.predict(test_x_poly)\n",
    "R2 = r2_score(test_y, eval_y)\n",
    "print('R2 is: ', R2)\n"
   ]
  }
 ],
 "metadata": {
  "kernelspec": {
   "display_name": "myenv",
   "language": "python",
   "name": "myenv"
  },
  "language_info": {
   "codemirror_mode": {
    "name": "ipython",
    "version": 3
   },
   "file_extension": ".py",
   "mimetype": "text/x-python",
   "name": "python",
   "nbconvert_exporter": "python",
   "pygments_lexer": "ipython3",
   "version": "3.9.7"
  }
 },
 "nbformat": 4,
 "nbformat_minor": 5
}
